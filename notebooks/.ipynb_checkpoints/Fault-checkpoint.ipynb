{
 "cells": [
  {
   "cell_type": "code",
   "execution_count": 1,
   "metadata": {
    "collapsed": true
   },
   "outputs": [],
   "source": [
    "%matplotlib inline"
   ]
  },
  {
   "cell_type": "code",
   "execution_count": 8,
   "metadata": {
    "collapsed": true
   },
   "outputs": [],
   "source": [
    "from pyshake.shakelib.fault import Fault\n",
    "import StringIO\n",
    "from mapio.gmt import GMTGrid"
   ]
  },
  {
   "cell_type": "markdown",
   "metadata": {},
   "source": [
    "Make a simple fault object from a set of top of rupture vertices, a width and a dip."
   ]
  },
  {
   "cell_type": "code",
   "execution_count": 9,
   "metadata": {
    "collapsed": false
   },
   "outputs": [
    {
     "name": "stdout",
     "output_type": "stream",
     "text": [
      "#From J Smith, (personal communication)\n",
      "0.0000 0.0000 -0.0000\n",
      "0.0500 0.0000 -0.0000\n",
      "0.0500 0.0636 7.0711\n",
      "-0.0000 0.0636 7.0711\n",
      "0.0000 0.0000 -0.0000\n",
      ">\n",
      "\n"
     ]
    }
   ],
   "source": [
    "xp0 = [0.0]\n",
    "xp1 = [0.0]\n",
    "yp0 = [0.0]\n",
    "yp1 = [0.05]\n",
    "zp = [0.0]\n",
    "widths = [10.0]\n",
    "dips = [45.0]\n",
    "\n",
    "fault = Fault.fromTrace(xp0,yp0,xp1,yp1,zp,widths,dips,reference='From J Smith, (personal communication)')\n",
    "fstr = StringIO.StringIO()\n",
    "fault.writeFaultFile(fstr)\n",
    "print fstr.getvalue()"
   ]
  },
  {
   "cell_type": "code",
   "execution_count": null,
   "metadata": {
    "collapsed": true
   },
   "outputs": [],
   "source": []
  }
 ],
 "metadata": {
  "kernelspec": {
   "display_name": "Python 2",
   "language": "python",
   "name": "python2"
  },
  "language_info": {
   "codemirror_mode": {
    "name": "ipython",
    "version": 2
   },
   "file_extension": ".py",
   "mimetype": "text/x-python",
   "name": "python",
   "nbconvert_exporter": "python",
   "pygments_lexer": "ipython2",
   "version": "2.7.10"
  }
 },
 "nbformat": 4,
 "nbformat_minor": 0
}
